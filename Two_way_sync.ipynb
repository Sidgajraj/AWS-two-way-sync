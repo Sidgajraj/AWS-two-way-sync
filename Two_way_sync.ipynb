{
 "cells": [
  {
   "cell_type": "code",
   "execution_count": 1,
   "id": "c8e44ce4-f586-4119-bb27-3871b9e48449",
   "metadata": {},
   "outputs": [],
   "source": [
    "import requests\n",
    "import boto3\n",
    "import json\n",
    "import hashlib\n",
    "from datetime import datetime, timezone\n",
    "import logging\n",
    "import os"
   ]
  },
  {
   "cell_type": "code",
   "execution_count": 2,
   "id": "cbb867c8-0936-4208-8fdb-9fcc80fffb59",
   "metadata": {},
   "outputs": [],
   "source": [
    "# Filevine API & Auth Setup\n",
    "FILEVINE_API_URL = \"\"\n",
    "access_token = \"\"\n",
    "user_id = \"\"\n",
    "org_id = \"\"\n",
    "session_id = \"\""
   ]
  },
  {
   "cell_type": "code",
   "execution_count": 3,
   "id": "01185c86-92af-4066-be68-f85550e6e94a",
   "metadata": {},
   "outputs": [],
   "source": [
    "# AWS S3 Buckets\n",
    "FILEVINE_BUCKET_NAME = \"\"\n",
    "LOCAL_BUCKET_NAME = \"\""
   ]
  },
  {
   "cell_type": "code",
   "execution_count": 4,
   "id": "00c5b9ad-4acb-40e5-80ad-3cd9fb5483f2",
   "metadata": {},
   "outputs": [],
   "source": [
    "# Local directory path (network mapped)\n",
    "LOCAL_DIRECTORY_PATH = r\"\""
   ]
  },
  {
   "cell_type": "code",
   "execution_count": 5,
   "id": "f82e5274-e14d-476f-8e52-5e428cc05161",
   "metadata": {},
   "outputs": [],
   "source": [
    "# Logging\n",
    "logging.basicConfig(\n",
    "    filename='sync_log.txt',\n",
    "    level=logging.DEBUG,\n",
    "    format='%(asctime)s - %(levelname)s - %(message)s'\n",
    ")"
   ]
  },
  {
   "cell_type": "code",
   "execution_count": 6,
   "id": "0876b508-1703-4a8e-bd2f-1c94bfc90adc",
   "metadata": {},
   "outputs": [],
   "source": [
    "def compute_md5_hash(input_str):\n",
    "    md5 = hashlib.md5()\n",
    "    md5.update(input_str.encode('utf-8'))\n",
    "    return md5.hexdigest()"
   ]
  },
  {
   "cell_type": "code",
   "execution_count": 7,
   "id": "e48e9dbf-3223-4a2b-95d4-1ce3fece0710",
   "metadata": {},
   "outputs": [],
   "source": [
    "def refresh_access_token():\n",
    "   \n",
    "    logging.info(\"Refreshing access token.\")\n",
    "\n",
    "    # Generate the current timestamp in ISO 8601 format\n",
    "    api_timestamp = datetime.now(timezone.utc).strftime(\"%Y-%m-%dT%H:%M:%S.%f\")[:-3] + \"Z\"\n",
    "\n",
    "    # Given values (REPLACE with secure handling)\n",
    "    api_key = \"\"\n",
    "    api_secret = \"\"\n",
    "\n",
    "    # Join values and compute hash\n",
    "    data = \"/\".join([api_key, api_timestamp, api_secret])\n",
    "    logging.info(f\"Data to be hashed: {data}\")\n",
    "\n",
    "    hashed_data = compute_md5_hash(data)\n",
    "    logging.info(f\"Hashed Data: {hashed_data}\")\n",
    "\n",
    "    # Simulated token refresh (replace with actual call)\n",
    "    return \"new_access_token\""
   ]
  },
  {
   "cell_type": "code",
   "execution_count": 8,
   "id": "abe205d5-4f79-4d02-8b19-e119f58bf4e6",
   "metadata": {},
   "outputs": [],
   "source": [
    "def download_file_from_url(url):\n",
    "    try:\n",
    "        response = requests.get(url)\n",
    "        return response.content if response.status_code == 200 else None\n",
    "    except Exception as e:\n",
    "        logging.error(f\"Error downloading: {e}\")\n",
    "        return None"
   ]
  },
  {
   "cell_type": "code",
   "execution_count": 9,
   "id": "1b37c372-e701-41cd-b8ca-6925fbbe8f56",
   "metadata": {},
   "outputs": [],
   "source": [
    "def push_data_to_filevine(file_name, file_data, project_id, section_name=\"Docs\"):\n",
    "    url = f\"\"\n",
    "    headers = {\n",
    "        \"Authorization\": f\"Bearer {access_token}\",\n",
    "        \"x-fv-userid\": user_id,\n",
    "        \"x-fv-orgid\": org_id,\n",
    "        \"x-fv-sessionid\": session_id\n",
    "    }\n",
    "\n",
    "    files = {\n",
    "        \"file\": (file_name, file_data),\n",
    "        \"section\": (None, section_name)\n",
    "    }\n",
    "\n",
    "    try:\n",
    "        response = requests.post(url, headers=headers, files=files)\n",
    "        if response.status_code == 200:\n",
    "            logging.info(f\"Uploaded {file_name} to Filevine project {project_id} in section '{section_name}'\")\n",
    "        else:\n",
    "            logging.error(f\"Upload failed: {response.status_code}, {response.text}\")\n",
    "    except Exception as e:\n",
    "        logging.error(f\"Push to Filevine error: {e}\")"
   ]
  },
  {
   "cell_type": "code",
   "execution_count": 10,
   "id": "fcc1f0a0-5dbe-428f-9b04-3e3a238683ee",
   "metadata": {},
   "outputs": [],
   "source": [
    "def fetch_filevine_data(document_ids):\n",
    "    global access_token\n",
    "    headers = {\n",
    "        \"Authorization\": f\"Bearer {access_token}\",\n",
    "        \"x-fv-userid\": user_id,\n",
    "        \"x-fv-orgid\": org_id,\n",
    "        \"x-fv-sessionid\": session_id,\n",
    "        \"Content-Type\": \"application/json\"\n",
    "    }\n",
    "    body = {\"DocumentIds\": document_ids}\n",
    "    try:\n",
    "        response = requests.get(FILEVINE_API_URL, headers=headers, json=body)\n",
    "        if response.status_code == 200:\n",
    "            documents = response.json().get(\"data\", [])\n",
    "            results = []\n",
    "            for doc in documents:\n",
    "                file_id = doc.get(\"id\")\n",
    "                download_url = doc.get(\"downloadUrl\") or doc.get(\"fileUrl\")\n",
    "                if download_url:\n",
    "                    content = download_file_from_url(download_url)\n",
    "                    if content:\n",
    "                        results.append((f\"{file_id}.bin\", content))\n",
    "            return results\n",
    "        elif response.status_code == 401:\n",
    "            access_token = refresh_access_token()\n",
    "            return fetch_filevine_data(document_ids)\n",
    "    except Exception as e:\n",
    "        logging.error(f\"Filevine fetch error: {e}\")\n",
    "    return []"
   ]
  },
  {
   "cell_type": "code",
   "execution_count": 11,
   "id": "646d7f18-c174-47c8-b5bd-5fad99800d36",
   "metadata": {},
   "outputs": [],
   "source": [
    "def save_to_s3(file_name, file_data, bucket_name, use_timestamp=True):\n",
    "    s3 = boto3.client('s3', region_name='us-west-2')\n",
    "    key = f\"{datetime.now().strftime('%Y%m%d%H%M%S')}_{file_name}\"\n",
    "    try:\n",
    "        s3.put_object(Bucket=bucket_name, Key=key, Body=file_data)\n",
    "        logging.info(f\"Uploaded {file_name} to {bucket_name}\")\n",
    "    except Exception as e:\n",
    "        logging.error(f\"S3 Upload Error: {e}\")"
   ]
  },
  {
   "cell_type": "code",
   "execution_count": 12,
   "id": "761dc393-97fb-40aa-a4d5-9f05fe0124a5",
   "metadata": {},
   "outputs": [],
   "source": [
    "def retrieve_from_s3(s3_key, bucket_name):\n",
    "    s3 = boto3.client('s3', region_name='us-west-2')\n",
    "    try:\n",
    "        response = s3.get_object(Bucket=bucket_name, Key=s3_key)\n",
    "        return response['Body'].read()\n",
    "    except Exception as e:\n",
    "        logging.error(f\"S3 Read Error: {e}\")\n",
    "        return None"
   ]
  },
  {
   "cell_type": "code",
   "execution_count": 13,
   "id": "00aad7fb-8c95-4527-8e2d-f3f964ba071e",
   "metadata": {},
   "outputs": [],
   "source": [
    "def list_s3_keys(bucket_name):\n",
    "    s3 = boto3.client('s3', region_name='us-west-2')\n",
    "    try:\n",
    "        response = s3.list_objects_v2(Bucket=bucket_name)\n",
    "        return [obj['Key'] for obj in response.get('Contents', [])]\n",
    "    except Exception as e:\n",
    "        logging.error(f\"List S3 Error: {e}\")\n",
    "        return []"
   ]
  },
  {
   "cell_type": "code",
   "execution_count": 14,
   "id": "0ab97223-fb0c-46a5-a0c7-257f3a47f731",
   "metadata": {},
   "outputs": [],
   "source": [
    "def save_to_local(data, filename):\n",
    "    path = os.path.join(LOCAL_DIRECTORY_PATH, filename)\n",
    "    try:\n",
    "        with open(path, 'wb') as f:\n",
    "            f.write(data)\n",
    "        logging.info(f\"Saved to local path: {path}\")\n",
    "    except Exception as e:\n",
    "        logging.error(f\"Local Save Error: {e}\")"
   ]
  },
  {
   "cell_type": "code",
   "execution_count": 15,
   "id": "a8b96a24-1158-4fd2-ad06-03cf159e4f84",
   "metadata": {},
   "outputs": [],
   "source": [
    "def sync_local_to_s3():\n",
    "    for root, _, files in os.walk(LOCAL_DIRECTORY_PATH):\n",
    "        for file in files:\n",
    "            full_path = os.path.join(root, file)\n",
    "            try:\n",
    "                with open(full_path, 'rb') as f:\n",
    "                    data = f.read()\n",
    "                    save_to_s3(file, data, LOCAL_BUCKET_NAME)\n",
    "            except Exception as e:\n",
    "                logging.error(f\"Local Read Error: {e}\")"
   ]
  },
  {
   "cell_type": "code",
   "execution_count": 16,
   "id": "6a1f679e-0248-4cd2-bc48-6670a3cffd89",
   "metadata": {},
   "outputs": [],
   "source": [
    "def sync_filevine_to_s3(document_ids):\n",
    "    for file_name, file_data in fetch_filevine_data(document_ids):\n",
    "        save_to_s3(file_name, file_data, FILEVINE_BUCKET_NAME)"
   ]
  },
  {
   "cell_type": "code",
   "execution_count": 17,
   "id": "12fa11ca-0764-49be-9dd7-e96ce8efae09",
   "metadata": {},
   "outputs": [],
   "source": [
    "def sync_s3_to_s3(key, source_bucket, dest_bucket):\n",
    "    data = retrieve_from_s3(key, source_bucket)\n",
    "    if data:\n",
    "        save_to_s3(key, data, dest_bucket, use_timestamp=False)"
   ]
  },
  {
   "cell_type": "code",
   "execution_count": 18,
   "id": "b20eb62e-6882-4f33-ac4a-d0416f1d80d5",
   "metadata": {},
   "outputs": [],
   "source": [
    "def sync_s3_to_local(key):\n",
    "    data = retrieve_from_s3(key, LOCAL_BUCKET_NAME)\n",
    "    if data:\n",
    "        save_to_local(data, os.path.basename(key))"
   ]
  },
  {
   "cell_type": "code",
   "execution_count": 19,
   "id": "0783f286-0f50-46c7-9477-111bd577e012",
   "metadata": {},
   "outputs": [],
   "source": [
    "def sync_s3_to_filevine(key, project_id):\n",
    "    data = retrieve_from_s3(key, FILEVINE_BUCKET_NAME)\n",
    "    if data:\n",
    "        push_data_to_filevine(os.path.basename(key), data, project_id)"
   ]
  },
  {
   "cell_type": "code",
   "execution_count": 20,
   "id": "574d60f1-5011-499d-8c17-9cba805c7adc",
   "metadata": {},
   "outputs": [],
   "source": [
    "def full_filevine_sync_cycle(document_ids):\n",
    "    sync_filevine_to_s3(document_ids)\n",
    "\n",
    "    for key in list_s3_keys(FILEVINE_BUCKET_NAME):\n",
    "        sync_s3_to_s3(key, FILEVINE_BUCKET_NAME, LOCAL_BUCKET_NAME)\n",
    "\n",
    "    for key in list_s3_keys(LOCAL_BUCKET_NAME):\n",
    "        sync_s3_to_local(key)\n",
    "\n",
    "    sync_local_to_s3()\n",
    "\n",
    "    for key in list_s3_keys(LOCAL_BUCKET_NAME):\n",
    "        sync_s3_to_s3(key, LOCAL_BUCKET_NAME, FILEVINE_BUCKET_NAME)\n",
    "\n",
    "    for key in list_s3_keys(FILEVINE_BUCKET_NAME):\n",
    "        sync_s3_to_filevine(key)"
   ]
  },
  {
   "cell_type": "code",
   "execution_count": null,
   "id": "70cd1da3-0f92-4ea9-9bc7-f7996ed7140a",
   "metadata": {},
   "outputs": [],
   "source": [
    "if __name__ == \"__main__\":\n",
    "    document_ids = []  # Or change if needed — unrelated to projectId\n",
    "    project_id =   #  Your actual Filevine project ID\n",
    "\n",
    "    full_filevine_sync_cycle(document_ids)\n",
    "\n",
    "    for key in list_s3_keys(FILEVINE_BUCKET_NAME):\n",
    "        sync_s3_to_filevine(key, project_id)"
   ]
  }
 ],
 "metadata": {
  "kernelspec": {
   "display_name": "Python 3 (ipykernel)",
   "language": "python",
   "name": "python3"
  },
  "language_info": {
   "codemirror_mode": {
    "name": "ipython",
    "version": 3
   },
   "file_extension": ".py",
   "mimetype": "text/x-python",
   "name": "python",
   "nbconvert_exporter": "python",
   "pygments_lexer": "ipython3",
   "version": "3.12.7"
  }
 },
 "nbformat": 4,
 "nbformat_minor": 5
}
